{
 "cells": [
  {
   "cell_type": "code",
   "execution_count": 28,
   "metadata": {
    "collapsed": true
   },
   "outputs": [],
   "source": [
    "from sklearn import preprocessing\n",
    "import numpy as np\n",
    "import pandas as pd"
   ]
  },
  {
   "cell_type": "markdown",
   "metadata": {},
   "source": [
    "### Data Loading"
   ]
  },
  {
   "cell_type": "code",
   "execution_count": 40,
   "metadata": {
    "collapsed": false
   },
   "outputs": [
    {
     "data": {
      "text/html": [
       "<div>\n",
       "<table border=\"1\" class=\"dataframe\">\n",
       "  <thead>\n",
       "    <tr style=\"text-align: right;\">\n",
       "      <th></th>\n",
       "      <th>v1</th>\n",
       "      <th>v2</th>\n",
       "      <th>Unnamed: 2</th>\n",
       "      <th>Unnamed: 3</th>\n",
       "      <th>Unnamed: 4</th>\n",
       "    </tr>\n",
       "  </thead>\n",
       "  <tbody>\n",
       "    <tr>\n",
       "      <th>0</th>\n",
       "      <td>ham</td>\n",
       "      <td>Go until jurong point, crazy.. Available only ...</td>\n",
       "      <td>NaN</td>\n",
       "      <td>NaN</td>\n",
       "      <td>NaN</td>\n",
       "    </tr>\n",
       "    <tr>\n",
       "      <th>1</th>\n",
       "      <td>ham</td>\n",
       "      <td>Ok lar... Joking wif u oni...</td>\n",
       "      <td>NaN</td>\n",
       "      <td>NaN</td>\n",
       "      <td>NaN</td>\n",
       "    </tr>\n",
       "    <tr>\n",
       "      <th>2</th>\n",
       "      <td>spam</td>\n",
       "      <td>Free entry in 2 a wkly comp to win FA Cup fina...</td>\n",
       "      <td>NaN</td>\n",
       "      <td>NaN</td>\n",
       "      <td>NaN</td>\n",
       "    </tr>\n",
       "    <tr>\n",
       "      <th>3</th>\n",
       "      <td>ham</td>\n",
       "      <td>U dun say so early hor... U c already then say...</td>\n",
       "      <td>NaN</td>\n",
       "      <td>NaN</td>\n",
       "      <td>NaN</td>\n",
       "    </tr>\n",
       "    <tr>\n",
       "      <th>4</th>\n",
       "      <td>ham</td>\n",
       "      <td>Nah I don't think he goes to usf, he lives aro...</td>\n",
       "      <td>NaN</td>\n",
       "      <td>NaN</td>\n",
       "      <td>NaN</td>\n",
       "    </tr>\n",
       "  </tbody>\n",
       "</table>\n",
       "</div>"
      ],
      "text/plain": [
       "     v1                                                 v2 Unnamed: 2  \\\n",
       "0   ham  Go until jurong point, crazy.. Available only ...        NaN   \n",
       "1   ham                      Ok lar... Joking wif u oni...        NaN   \n",
       "2  spam  Free entry in 2 a wkly comp to win FA Cup fina...        NaN   \n",
       "3   ham  U dun say so early hor... U c already then say...        NaN   \n",
       "4   ham  Nah I don't think he goes to usf, he lives aro...        NaN   \n",
       "\n",
       "  Unnamed: 3 Unnamed: 4  \n",
       "0        NaN        NaN  \n",
       "1        NaN        NaN  \n",
       "2        NaN        NaN  \n",
       "3        NaN        NaN  \n",
       "4        NaN        NaN  "
      ]
     },
     "execution_count": 40,
     "metadata": {},
     "output_type": "execute_result"
    }
   ],
   "source": [
    "data = pd.read_csv('dataset/spam.csv', encoding='latin-1')\n",
    "# Show first 5 in dataset\n",
    "data.head(5)"
   ]
  },
  {
   "cell_type": "code",
   "execution_count": 41,
   "metadata": {
    "collapsed": false
   },
   "outputs": [
    {
     "data": {
      "text/html": [
       "<div>\n",
       "<table border=\"1\" class=\"dataframe\">\n",
       "  <thead>\n",
       "    <tr style=\"text-align: right;\">\n",
       "      <th></th>\n",
       "      <th>label</th>\n",
       "      <th>text</th>\n",
       "    </tr>\n",
       "  </thead>\n",
       "  <tbody>\n",
       "    <tr>\n",
       "      <th>5567</th>\n",
       "      <td>spam</td>\n",
       "      <td>This is the 2nd time we have tried 2 contact u...</td>\n",
       "    </tr>\n",
       "    <tr>\n",
       "      <th>5568</th>\n",
       "      <td>ham</td>\n",
       "      <td>Will Ì_ b going to esplanade fr home?</td>\n",
       "    </tr>\n",
       "    <tr>\n",
       "      <th>5569</th>\n",
       "      <td>ham</td>\n",
       "      <td>Pity, * was in mood for that. So...any other s...</td>\n",
       "    </tr>\n",
       "    <tr>\n",
       "      <th>5570</th>\n",
       "      <td>ham</td>\n",
       "      <td>The guy did some bitching but I acted like i'd...</td>\n",
       "    </tr>\n",
       "    <tr>\n",
       "      <th>5571</th>\n",
       "      <td>ham</td>\n",
       "      <td>Rofl. Its true to its name</td>\n",
       "    </tr>\n",
       "  </tbody>\n",
       "</table>\n",
       "</div>"
      ],
      "text/plain": [
       "     label                                               text\n",
       "5567  spam  This is the 2nd time we have tried 2 contact u...\n",
       "5568   ham              Will Ì_ b going to esplanade fr home?\n",
       "5569   ham  Pity, * was in mood for that. So...any other s...\n",
       "5570   ham  The guy did some bitching but I acted like i'd...\n",
       "5571   ham                         Rofl. Its true to its name"
      ]
     },
     "execution_count": 41,
     "metadata": {},
     "output_type": "execute_result"
    }
   ],
   "source": [
    "# Drop soem unwanted columns that do not provide insight\n",
    "data = data.drop([\"Unnamed: 2\", \"Unnamed: 3\", \"Unnamed: 4\"], axis=1)\n",
    "data = data.rename(columns={\"v1\":\"label\", \"v2\":\"text\"})\n",
    "# Show last 5 in dataset\n",
    "data.tail(5)"
   ]
  },
  {
   "cell_type": "code",
   "execution_count": 42,
   "metadata": {
    "collapsed": false
   },
   "outputs": [
    {
     "data": {
      "text/html": [
       "<div>\n",
       "<table border=\"1\" class=\"dataframe\">\n",
       "  <thead>\n",
       "    <tr style=\"text-align: right;\">\n",
       "      <th></th>\n",
       "      <th>label</th>\n",
       "      <th>text</th>\n",
       "      <th>label_tag</th>\n",
       "    </tr>\n",
       "  </thead>\n",
       "  <tbody>\n",
       "    <tr>\n",
       "      <th>0</th>\n",
       "      <td>ham</td>\n",
       "      <td>Go until jurong point, crazy.. Available only ...</td>\n",
       "      <td>0</td>\n",
       "    </tr>\n",
       "    <tr>\n",
       "      <th>1</th>\n",
       "      <td>ham</td>\n",
       "      <td>Ok lar... Joking wif u oni...</td>\n",
       "      <td>0</td>\n",
       "    </tr>\n",
       "    <tr>\n",
       "      <th>2</th>\n",
       "      <td>spam</td>\n",
       "      <td>Free entry in 2 a wkly comp to win FA Cup fina...</td>\n",
       "      <td>1</td>\n",
       "    </tr>\n",
       "    <tr>\n",
       "      <th>3</th>\n",
       "      <td>ham</td>\n",
       "      <td>U dun say so early hor... U c already then say...</td>\n",
       "      <td>0</td>\n",
       "    </tr>\n",
       "    <tr>\n",
       "      <th>4</th>\n",
       "      <td>ham</td>\n",
       "      <td>Nah I don't think he goes to usf, he lives aro...</td>\n",
       "      <td>0</td>\n",
       "    </tr>\n",
       "  </tbody>\n",
       "</table>\n",
       "</div>"
      ],
      "text/plain": [
       "  label                                               text  label_tag\n",
       "0   ham  Go until jurong point, crazy.. Available only ...          0\n",
       "1   ham                      Ok lar... Joking wif u oni...          0\n",
       "2  spam  Free entry in 2 a wkly comp to win FA Cup fina...          1\n",
       "3   ham  U dun say so early hor... U c already then say...          0\n",
       "4   ham  Nah I don't think he goes to usf, he lives aro...          0"
      ]
     },
     "execution_count": 42,
     "metadata": {},
     "output_type": "execute_result"
    }
   ],
   "source": [
    "data[\"label_tag\"] = data.label.map({'ham':0, 'spam':1})\n",
    "data.head(5)"
   ]
  },
  {
   "cell_type": "code",
   "execution_count": 47,
   "metadata": {
    "collapsed": false
   },
   "outputs": [
    {
     "name": "stdout",
     "output_type": "stream",
     "text": [
      "label        5572\n",
      "text         5572\n",
      "label_tag    5572\n",
      "dtype: int64\n"
     ]
    },
    {
     "data": {
      "text/plain": [
       "ham     4825\n",
       "spam     747\n",
       "Name: label, dtype: int64"
      ]
     },
     "execution_count": 47,
     "metadata": {},
     "output_type": "execute_result"
    }
   ],
   "source": [
    "# get the size of our dataset\n",
    "print(data.count())\n",
    "data.label.value_counts()"
   ]
  },
  {
   "cell_type": "markdown",
   "metadata": {
    "collapsed": true
   },
   "source": [
    "### Data Preparation"
   ]
  },
  {
   "cell_type": "markdown",
   "metadata": {},
   "source": [
    "Training data"
   ]
  },
  {
   "cell_type": "code",
   "execution_count": 109,
   "metadata": {
    "collapsed": false
   },
   "outputs": [
    {
     "data": {
      "text/html": [
       "<div>\n",
       "<table border=\"1\" class=\"dataframe\">\n",
       "  <thead>\n",
       "    <tr style=\"text-align: right;\">\n",
       "      <th></th>\n",
       "      <th>label</th>\n",
       "      <th>text</th>\n",
       "      <th>label_tag</th>\n",
       "    </tr>\n",
       "  </thead>\n",
       "  <tbody>\n",
       "    <tr>\n",
       "      <th>0</th>\n",
       "      <td>ham</td>\n",
       "      <td>Go until jurong point, crazy.. Available only ...</td>\n",
       "      <td>0</td>\n",
       "    </tr>\n",
       "    <tr>\n",
       "      <th>1</th>\n",
       "      <td>ham</td>\n",
       "      <td>Ok lar... Joking wif u oni...</td>\n",
       "      <td>0</td>\n",
       "    </tr>\n",
       "    <tr>\n",
       "      <th>2</th>\n",
       "      <td>spam</td>\n",
       "      <td>Free entry in 2 a wkly comp to win FA Cup fina...</td>\n",
       "      <td>1</td>\n",
       "    </tr>\n",
       "    <tr>\n",
       "      <th>3</th>\n",
       "      <td>ham</td>\n",
       "      <td>U dun say so early hor... U c already then say...</td>\n",
       "      <td>0</td>\n",
       "    </tr>\n",
       "    <tr>\n",
       "      <th>4</th>\n",
       "      <td>ham</td>\n",
       "      <td>Nah I don't think he goes to usf, he lives aro...</td>\n",
       "      <td>0</td>\n",
       "    </tr>\n",
       "  </tbody>\n",
       "</table>\n",
       "</div>"
      ],
      "text/plain": [
       "  label                                               text  label_tag\n",
       "0   ham  Go until jurong point, crazy.. Available only ...          0\n",
       "1   ham                      Ok lar... Joking wif u oni...          0\n",
       "2  spam  Free entry in 2 a wkly comp to win FA Cup fina...          1\n",
       "3   ham  U dun say so early hor... U c already then say...          0\n",
       "4   ham  Nah I don't think he goes to usf, he lives aro...          0"
      ]
     },
     "execution_count": 109,
     "metadata": {},
     "output_type": "execute_result"
    }
   ],
   "source": [
    "# first 4572/5572 emails\n",
    "training_data = data[0:4572]\n",
    "training_data_length = len(training_data.label)\n",
    "training_data.head()"
   ]
  },
  {
   "cell_type": "markdown",
   "metadata": {},
   "source": [
    "Testing data"
   ]
  },
  {
   "cell_type": "code",
   "execution_count": 110,
   "metadata": {
    "collapsed": false
   },
   "outputs": [
    {
     "data": {
      "text/html": [
       "<div>\n",
       "<table border=\"1\" class=\"dataframe\">\n",
       "  <thead>\n",
       "    <tr style=\"text-align: right;\">\n",
       "      <th></th>\n",
       "      <th>label</th>\n",
       "      <th>text</th>\n",
       "      <th>label_tag</th>\n",
       "    </tr>\n",
       "  </thead>\n",
       "  <tbody>\n",
       "    <tr>\n",
       "      <th>4572</th>\n",
       "      <td>spam</td>\n",
       "      <td>\\URGENT! This is the 2nd attempt to contact U!...</td>\n",
       "      <td>1</td>\n",
       "    </tr>\n",
       "    <tr>\n",
       "      <th>4573</th>\n",
       "      <td>ham</td>\n",
       "      <td>:( but your not here....</td>\n",
       "      <td>0</td>\n",
       "    </tr>\n",
       "    <tr>\n",
       "      <th>4574</th>\n",
       "      <td>ham</td>\n",
       "      <td>Not directly behind... Abt 4 rows behind Ì_...</td>\n",
       "      <td>0</td>\n",
       "    </tr>\n",
       "    <tr>\n",
       "      <th>4575</th>\n",
       "      <td>spam</td>\n",
       "      <td>Congratulations ur awarded 500 of CD vouchers ...</td>\n",
       "      <td>1</td>\n",
       "    </tr>\n",
       "    <tr>\n",
       "      <th>4576</th>\n",
       "      <td>spam</td>\n",
       "      <td>Had your contract mobile 11 Mnths? Latest Moto...</td>\n",
       "      <td>1</td>\n",
       "    </tr>\n",
       "  </tbody>\n",
       "</table>\n",
       "</div>"
      ],
      "text/plain": [
       "     label                                               text  label_tag\n",
       "4572  spam  \\URGENT! This is the 2nd attempt to contact U!...          1\n",
       "4573   ham                           :( but your not here....          0\n",
       "4574   ham     Not directly behind... Abt 4 rows behind Ì_...          0\n",
       "4575  spam  Congratulations ur awarded 500 of CD vouchers ...          1\n",
       "4576  spam  Had your contract mobile 11 Mnths? Latest Moto...          1"
      ]
     },
     "execution_count": 110,
     "metadata": {},
     "output_type": "execute_result"
    }
   ],
   "source": [
    "# last 1000/5572\n",
    "test_data = data[-1000:]\n",
    "test_data_length = len(test_data.label)\n",
    "test_data.head()"
   ]
  },
  {
   "cell_type": "markdown",
   "metadata": {},
   "source": [
    "#### What is the shape of our input data"
   ]
  },
  {
   "cell_type": "markdown",
   "metadata": {},
   "source": [
    "Training data"
   ]
  },
  {
   "cell_type": "code",
   "execution_count": 111,
   "metadata": {
    "collapsed": false
   },
   "outputs": [
    {
     "name": "stdout",
     "output_type": "stream",
     "text": [
      "(4572, 3)\n",
      "(4572,)\n"
     ]
    }
   ],
   "source": [
    "print(training_data.shape)\n",
    "print(training_data.label.shape)"
   ]
  },
  {
   "cell_type": "markdown",
   "metadata": {},
   "source": [
    "There are 3 features and 4572 samples in our trtaining set"
   ]
  },
  {
   "cell_type": "markdown",
   "metadata": {},
   "source": [
    "Test data"
   ]
  },
  {
   "cell_type": "code",
   "execution_count": 112,
   "metadata": {
    "collapsed": false
   },
   "outputs": [
    {
     "name": "stdout",
     "output_type": "stream",
     "text": [
      "(1000, 3)\n",
      "(1000,)\n"
     ]
    }
   ],
   "source": [
    "print(test_data.shape)\n",
    "print(test_data.label.shape)"
   ]
  },
  {
   "cell_type": "markdown",
   "metadata": {},
   "source": [
    "### Develop a Predictive Theory"
   ]
  },
  {
   "cell_type": "code",
   "execution_count": 113,
   "metadata": {
    "collapsed": true
   },
   "outputs": [],
   "source": [
    "import random"
   ]
  },
  {
   "cell_type": "code",
   "execution_count": 114,
   "metadata": {
    "collapsed": true
   },
   "outputs": [],
   "source": [
    "def pretty_print_text_and_label(i):\n",
    "    print(training_data.label[i] + \"\\t:\\t\" + training_data.text[i][:80] + \"...\")"
   ]
  },
  {
   "cell_type": "code",
   "execution_count": 145,
   "metadata": {
    "collapsed": false
   },
   "outputs": [
    {
     "name": "stdout",
     "output_type": "stream",
     "text": [
      "labels \t : \t texts\n",
      "\n",
      "ham\t:\tAwesome, plan to get here any time after like  &lt;#&gt; , I'll text you details...\n",
      "spam\t:\tAs a registered optin subscriber ur draw 4 å£100 gift voucher will be entered on...\n",
      "ham\t:\tThe table's occupied, I'm waiting by the tree...\n",
      "ham\t:\tJay told me already, will do...\n",
      "ham\t:\tHi! This is Roger from CL. How are you?...\n",
      "ham\t:\tBut i'll b going 2 sch on mon. My sis need 2 take smth....\n",
      "ham\t:\tHi! This is Roger from CL. How are you?...\n",
      "ham\t:\tGo until jurong point, crazy.. Available only in bugis n great world la e buffet...\n"
     ]
    }
   ],
   "source": [
    "print(\"labels \\t : \\t texts\\n\")\n",
    "# choose  a random spam set to analyse\n",
    "# random.randrange(start, stop, step)\n",
    "pretty_print_text_and_label(random.randrange(0,4572))\n",
    "pretty_print_text_and_label(random.randrange(0,4572,4))\n",
    "pretty_print_text_and_label(random.randrange(0,4572,50))\n",
    "pretty_print_text_and_label(random.randrange(0,4572,100))\n",
    "pretty_print_text_and_label(random.randrange(0,4572,200))\n",
    "pretty_print_text_and_label(random.randrange(0,4572,500))\n",
    "pretty_print_text_and_label(random.randrange(0,4572,800))\n",
    "pretty_print_text_and_label(random.randrange(0,4572,1000))"
   ]
  },
  {
   "cell_type": "markdown",
   "metadata": {},
   "source": [
    "It is very easy to distinguish a spam text from a non-spam text (in this case ham) . Spam text occasionaly contain words like **free**, **sell**, **promotion**, **deal**, **offer**, **discount**, **lucky** e.t.c. This way we can let our network learn some of the words assocaiated with spams and based on such criteria we can classify a text as a spam or not."
   ]
  },
  {
   "cell_type": "markdown",
   "metadata": {},
   "source": [
    "#### Theory Validation"
   ]
  },
  {
   "cell_type": "code",
   "execution_count": 116,
   "metadata": {
    "collapsed": true
   },
   "outputs": [],
   "source": [
    "from collections import Counter\n",
    "import numpy as np\n",
    "import pprint "
   ]
  },
  {
   "cell_type": "code",
   "execution_count": 127,
   "metadata": {
    "collapsed": true
   },
   "outputs": [],
   "source": [
    "spam_counts = Counter()\n",
    "ham_counts = Counter()\n",
    "total_counts = Counter()\n",
    "spam_ham_ratios = Counter()\n",
    "\n",
    "pp = pprint.PrettyPrinter(indent=4)"
   ]
  },
  {
   "cell_type": "code",
   "execution_count": 128,
   "metadata": {
    "collapsed": false
   },
   "outputs": [],
   "source": [
    "for i in range(training_data_length):\n",
    "    if(training_data.label[i] == 0):\n",
    "        for word in training_data.text[i].split(\" \"):\n",
    "            ham_counts[word] += 1\n",
    "            total_counts[word] += 1\n",
    "    else:\n",
    "        for word in training_data.text[i].split(\" \"):\n",
    "            spam_counts[word] += 1\n",
    "            total_counts[word] += 1"
   ]
  },
  {
   "cell_type": "code",
   "execution_count": 137,
   "metadata": {
    "collapsed": false
   },
   "outputs": [
    {
     "name": "stdout",
     "output_type": "stream",
     "text": [
      "[   ('to', 1758),\n",
      "    ('you', 1368),\n",
      "    ('I', 1204),\n",
      "    ('a', 1094),\n",
      "    ('the', 989),\n",
      "    ('and', 736),\n",
      "    ('in', 652),\n",
      "    ('is', 648),\n",
      "    ('i', 612),\n",
      "    ('u', 567),\n",
      "    ('for', 529),\n",
      "    ('my', 522),\n",
      "    ('', 521),\n",
      "    ('of', 498),\n",
      "    ('me', 465),\n",
      "    ('your', 447),\n",
      "    ('on', 410),\n",
      "    ('have', 402),\n",
      "    ('2', 371),\n",
      "    ('that', 358),\n",
      "    ('are', 327),\n",
      "    ('it', 313),\n",
      "    ('or', 304),\n",
      "    ('call', 303),\n",
      "    ('at', 300),\n",
      "    ('be', 299),\n",
      "    ('not', 292),\n",
      "    ('with', 281),\n",
      "    ('get', 270),\n",
      "    ('will', 266)]\n"
     ]
    }
   ],
   "source": [
    "pp.pprint(spam_counts.most_common()[0:30])"
   ]
  },
  {
   "cell_type": "code",
   "execution_count": 149,
   "metadata": {
    "collapsed": true
   },
   "outputs": [],
   "source": [
    "for word,count in list(total_counts.most_common()):\n",
    "    if(count > 100):\n",
    "        spam_ham_ratio = spam_counts[word] / float(ham_counts[word]+1)\n",
    "        spam_ham_ratios[word] = spam_ham_ratio\n",
    "\n",
    "for word,ratio in spam_ham_ratios.most_common():\n",
    "    if(ratio > 1):\n",
    "        spam_ham_ratios[word] = np.log(ratio)\n",
    "    else:\n",
    "        spam_ham_ratios[word] = -np.log((1 / (ratio+0.01)))"
   ]
  },
  {
   "cell_type": "code",
   "execution_count": 148,
   "metadata": {
    "collapsed": false
   },
   "outputs": [
    {
     "name": "stdout",
     "output_type": "stream",
     "text": [
      "[   ('to', 7.4719320782451222),\n",
      "    ('you', 7.2211050981824956),\n",
      "    ('I', 7.0934046258687662),\n",
      "    ('a', 6.9975959829819265),\n",
      "    ('the', 6.8966943316227125),\n",
      "    ('and', 6.6012301187288767),\n",
      "    ('in', 6.4800445619266531),\n",
      "    ('is', 6.4738906963522744),\n",
      "    ('i', 6.4167322825123261),\n",
      "    ('u', 6.3403593037277517),\n",
      "    ('for', 6.2709884318582994),\n",
      "    ('my', 6.2576675878826391),\n",
      "    ('', 6.2557500417533669),\n",
      "    ('of', 6.2106000770246528),\n",
      "    ('me', 6.1420374055873559),\n",
      "    ('your', 6.1025585946135692),\n",
      "    ('on', 6.0161571596983539),\n",
      "    ('have', 5.9964520886190211),\n",
      "    ('2', 5.916202062607435),\n",
      "    ('that', 5.8805329864007003),\n",
      "    ('are', 5.7899601708972535),\n",
      "    ('it', 5.7462031905401529),\n",
      "    ('or', 5.7170277014062219),\n",
      "    ('call', 5.7137328055093688),\n",
      "    ('at', 5.7037824746562009),\n",
      "    ('be', 5.7004435733906869),\n",
      "    ('not', 5.6767538022682817),\n",
      "    ('with', 5.6383546693337454),\n",
      "    ('get', 5.598421958998375),\n",
      "    ('will', 5.5834963087816991)]\n"
     ]
    }
   ],
   "source": [
    "# words most frequently seen in a text with a \"spam\" label\n",
    "pp.pprint(spam_ham_ratios.most_common()[0:30])"
   ]
  },
  {
   "cell_type": "code",
   "execution_count": 135,
   "metadata": {
    "collapsed": false
   },
   "outputs": [
    {
     "name": "stdout",
     "output_type": "stream",
     "text": [
      "[   ('he', 4.6151205168412597),\n",
      "    ('there', 4.6151205168412597),\n",
      "    ('no', 4.6249728132842707),\n",
      "    ('been', 4.6443908991413725),\n",
      "    ('one', 4.6443908991413725),\n",
      "    ('our', 4.6443908991413725),\n",
      "    ('If', 4.6634390941120669),\n",
      "    ('No', 4.6728288344619058),\n",
      "    ('But', 4.7004803657924166),\n",
      "    ('still', 4.7095302013123339),\n",
      "    ('text', 4.7184988712950942),\n",
      "    ('need', 4.7361984483944957),\n",
      "    ('only', 4.7449321283632502),\n",
      "    ('as', 4.7449321283632502),\n",
      "    ('n', 4.7621739347977563),\n",
      "    ('How', 4.7706846244656651),\n",
      "    (\"I'll\", 4.7706846244656651),\n",
      "    ('what', 4.7706846244656651),\n",
      "    ('going', 4.7874917427820458),\n",
      "    ('then', 4.7874917427820458),\n",
      "    ('Call', 4.7957905455967413),\n",
      "    ('...', 4.8040210447332568),\n",
      "    ('time', 4.8202815656050371),\n",
      "    ('want', 4.8441870864585912),\n",
      "    ('about', 4.8520302639196169),\n",
      "    ('send', 4.8675344504555822),\n",
      "    ('by', 4.8978397999509111),\n",
      "    ('was', 5.0304379213924353),\n",
      "    ('?', 5.0498560072495371),\n",
      "    ('now', 5.0498560072495371)]\n"
     ]
    }
   ],
   "source": [
    "# words most frequently seen in a text with a \"ham\" label\n",
    "pp.pprint(list(reversed(spam_ham_ratios.most_common()))[0:30])"
   ]
  },
  {
   "cell_type": "markdown",
   "metadata": {},
   "source": [
    "### Transform Text into Numbers"
   ]
  },
  {
   "cell_type": "markdown",
   "metadata": {},
   "source": [
    "Neural Networks only understand numbers hence we have to find a way to represent our text inputs in a way it can understand"
   ]
  },
  {
   "cell_type": "code",
   "execution_count": null,
   "metadata": {
    "collapsed": true
   },
   "outputs": [],
   "source": []
  }
 ],
 "metadata": {
  "anaconda-cloud": {},
  "kernelspec": {
   "display_name": "Python [conda root]",
   "language": "python",
   "name": "conda-root-py"
  },
  "language_info": {
   "codemirror_mode": {
    "name": "ipython",
    "version": 3
   },
   "file_extension": ".py",
   "mimetype": "text/x-python",
   "name": "python",
   "nbconvert_exporter": "python",
   "pygments_lexer": "ipython3",
   "version": "3.5.2"
  }
 },
 "nbformat": 4,
 "nbformat_minor": 1
}
